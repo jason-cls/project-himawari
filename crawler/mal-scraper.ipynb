{
 "cells": [
  {
   "cell_type": "markdown",
   "metadata": {},
   "source": [
    "# Anime Data Scraper"
   ]
  },
  {
   "cell_type": "code",
   "execution_count": 1,
   "metadata": {},
   "outputs": [],
   "source": [
    "from jikanpy import Jikan\n",
    "from ratelimiter import RateLimiter\n",
    "import pandas as pd\n",
    "from tqdm.notebook import tqdm\n"
   ]
  },
  {
   "cell_type": "code",
   "execution_count": 2,
   "metadata": {},
   "outputs": [],
   "source": [
    "jikan = Jikan()  #Unofficial MAL API\n",
    "\n",
    "try_anime_ids = list(range(40000))  # set of ids to request info for\n",
    "savePath = 'animeData.csv'\n",
    "\n",
    "## RATE LIMITING ##\n",
    "# callsPerPeriod = 1\n",
    "# PERIOD = 4          # in seconds\n",
    "callsPerPeriod = 2\n",
    "PERIOD = 1          # in seconds\n",
    "\n",
    "\n",
    "@RateLimiter(max_calls=callsPerPeriod, period=PERIOD)\n",
    "def get_anime(target_id):\n",
    "    try:\n",
    "        return jikan.anime(target_id)\n",
    "    \n",
    "    except:\n",
    "        return None  # Handles case where anime id does not exist\n"
   ]
  },
  {
   "cell_type": "code",
   "execution_count": null,
   "metadata": {},
   "outputs": [
    {
     "data": {
      "application/vnd.jupyter.widget-view+json": {
       "model_id": "cd2f9308d96f4c55ba0f309760756821",
       "version_major": 2,
       "version_minor": 0
      },
      "text/plain": [
       "HBox(children=(FloatProgress(value=0.0, max=40000.0), HTML(value='')))"
      ]
     },
     "metadata": {},
     "output_type": "display_data"
    }
   ],
   "source": [
    "anime_data = {\n",
    "    'mal_id':[],\n",
    "    'image_url':[],\n",
    "    'title':[],\n",
    "    'title_english':[],\n",
    "    'title_japanese':[],\n",
    "    'type':[],\n",
    "    'episodes':[],\n",
    "    'status':[],\n",
    "    'rating':[],\n",
    "    'score':[],\n",
    "    'synopsis':[],\n",
    "    'premiered':[],\n",
    "    'broadcast':[],\n",
    "    'genres':[]\n",
    "}\n",
    "\n",
    "\n",
    "# Request info from API\n",
    "for aid in tqdm(try_anime_ids):\n",
    "    anime_info = get_anime(aid)\n",
    "    if anime_info != None:\n",
    "        for field in anime_data.keys():\n",
    "            if field == 'genres':\n",
    "                genres = [genre_info['name'] for genre_info in anime_info[field]]\n",
    "                anime_data[field].append(genres)\n",
    "            else:\n",
    "                anime_data[field].append(anime_info[field])\n",
    "            \n",
    "            "
   ]
  },
  {
   "cell_type": "code",
   "execution_count": null,
   "metadata": {},
   "outputs": [],
   "source": [
    "# Convert to dataframe and save as csv\n",
    "anime_df = pd.DataFrame.from_dict(anime_data)\n",
    "anime_df.to_csv(savePath, index=False)\n",
    "\n",
    "pd.set_option('display.max_columns', 500)\n",
    "anime_df.head()"
   ]
  },
  {
   "cell_type": "code",
   "execution_count": null,
   "metadata": {},
   "outputs": [],
   "source": []
  }
 ],
 "metadata": {
  "kernelspec": {
   "display_name": "Python 3",
   "language": "python",
   "name": "python3"
  },
  "language_info": {
   "codemirror_mode": {
    "name": "ipython",
    "version": 3
   },
   "file_extension": ".py",
   "mimetype": "text/x-python",
   "name": "python",
   "nbconvert_exporter": "python",
   "pygments_lexer": "ipython3",
   "version": "3.8.3"
  }
 },
 "nbformat": 4,
 "nbformat_minor": 4
}
